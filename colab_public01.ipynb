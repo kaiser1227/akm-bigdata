{
  "nbformat": 4,
  "nbformat_minor": 0,
  "metadata": {
    "colab": {
      "name": "colab_public01.ipynb",
      "version": "0.3.2",
      "provenance": [],
      "collapsed_sections": [],
      "include_colab_link": true
    },
    "kernelspec": {
      "name": "python3",
      "display_name": "Python 3"
    }
  },
  "cells": [
    {
      "cell_type": "markdown",
      "metadata": {
        "id": "view-in-github",
        "colab_type": "text"
      },
      "source": [
        "<a href=\"https://colab.research.google.com/github/kaiser1227/akm-python/blob/master/colab_public01.ipynb\" target=\"_parent\"><img src=\"https://colab.research.google.com/assets/colab-badge.svg\" alt=\"Open In Colab\"/></a>"
      ]
    },
    {
      "metadata": {
        "id": "iIrPrItZnNhs",
        "colab_type": "code",
        "colab": {
          "base_uri": "https://localhost:8080/",
          "height": 459
        },
        "outputId": "b0ac4016-4f52-4404-f045-7779f1e15f05"
      },
      "cell_type": "code",
      "source": [
        "\n",
        "from urllib.request import urlopen\n",
        "import pandas as pd\n",
        "from bs4 import BeautifulSoup\n",
        "# from html_table_parser import parser_functions as parser\n",
        " \n",
        " \n",
        "def collect_land_sale(ym,lawd_cd):\n",
        " \n",
        "    API_KEY = \"UmeOG8fXLWmdW2DwQMpFHgFwx%2BkwkYDtw16TtQeaP4xzbqtKCv08tZUAY8UcykdaFQ6Q92pbC4jJruoenAfXjA%3D%3D\"\n",
        "    url=\"http://openapi.molit.go.kr/OpenAPI_ToolInstallPackage/service/rest/RTMSOBJSvc/getRTMSDataSvcAptTradeDev\"\n",
        " \n",
        "    url=url+\"?LAWD_CD=\"+lawd_cd+\"&DEAL_YMD=\"+ym+\"&serviceKey=\"+API_KEY\n",
        "    print(url)\n",
        "    \n",
        "    resultXML = urlopen(url)\n",
        "    result = resultXML.read()\n",
        "    xmlsoup = BeautifulSoup(result, 'lxml-xml')\n",
        " \n",
        "    te=xmlsoup.findAll(\"item\")\n",
        "    sil=pd.DataFrame()\n",
        " \n",
        "    for t in te:\n",
        "        price = t.find(\"거래금액\").text\n",
        "        size = t.find(\"전용면적\").text\n",
        "        year=t.find(\"년\").text\n",
        "        dong=t.find(\"법정동\").text\n",
        "        gu = t.find(\"도로명\").text\n",
        "        yd = t.find(\"아파트\").text\n",
        "        month=t.find(\"월\").text\n",
        "        day=t.find(\"일\").text\n",
        "        jimock=t.find(\"지번\").text\n",
        "        lawd_cd=t.find(\"층\").text\n",
        " \n",
        "        temp = pd.DataFrame(([[price,size,year,dong,gu,yd,month,day,jimock,lawd_cd]]),\n",
        "                            columns=[\"price\",\"size\",\"year\",\"dong\",\"gu\",\"month\",\"day\",\"size\",\"jimock\",\"lawd_cd\"])\n",
        "        sil=pd.concat([sil,temp])\n",
        " \n",
        "    sil=sil.reset_index(drop=True)\n",
        "    \n",
        "    return sil\n",
        " \n",
        "if __name__==\"__main__\":\n",
        " \n",
        "    data=collect_land_sale(\"201901\",\"11110\")\n",
        "    print(data)\n"
      ],
      "execution_count": 29,
      "outputs": [
        {
          "output_type": "stream",
          "text": [
            "http://openapi.molit.go.kr/OpenAPI_ToolInstallPackage/service/rest/RTMSOBJSvc/getRTMSDataSvcAptTradeDev?LAWD_CD=11110&DEAL_YMD=201901&serviceKey=UmeOG8fXLWmdW2DwQMpFHgFwx%2BkwkYDtw16TtQeaP4xzbqtKCv08tZUAY8UcykdaFQ6Q92pbC4jJruoenAfXjA%3D%3D\n",
            "        price     size  year   dong       gu                  month day  \\\n",
            "0     105,000    97.61  2019    사직동    사직로8길  광화문풍림스페이스본(101동~105동)   1   \n",
            "1     162,000   163.33  2019    사직동     경희궁길       광화문풍림스페이스본(106동)   1   \n",
            "2     160,000   150.48  2019    내수동   새문안로3길              경희궁의아침4단지   1   \n",
            "3      20,000   16.672  2019    효제동      대학로                포레스트힐시티   1   \n",
            "4      23,000  20.3861  2019    효제동      대학로                포레스트힐시티   1   \n",
            "5      38,300    53.42  2019   명륜1가  성균관로17길              송림아마레스아파트   1   \n",
            "6      73,500     84.8  2019   명륜2가     창경궁로                    아남1   1   \n",
            "7      85,000     84.9  2019   명륜2가     창경궁로                    아남1   1   \n",
            "8      65,000    65.78  2019   명륜2가    혜화로3길                    아남3   1   \n",
            "9      35,000    59.73  2019   명륜3가     명륜4길                     한빛   1   \n",
            "\n",
            "    size jimock lawd_cd  \n",
            "0   1~10      9      10  \n",
            "1  11~20    9-1      11  \n",
            "2  21~31     73      14  \n",
            "3   1~10   65-2      10  \n",
            "4   1~10   65-2      12  \n",
            "5  11~20   2-12       6  \n",
            "6   1~10      4       2  \n",
            "7   1~10      4      17  \n",
            "8  11~20    237       4  \n",
            "9  11~20   1-30       3  \n"
          ],
          "name": "stdout"
        }
      ]
    }
  ]
}