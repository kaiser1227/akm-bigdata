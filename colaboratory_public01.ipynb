{
  "nbformat": 4,
  "nbformat_minor": 0,
  "metadata": {
    "colab": {
      "name": "Untitled0.ipynb",
      "version": "0.3.2",
      "provenance": [],
      "collapsed_sections": [],
      "include_colab_link": true
    },
    "kernelspec": {
      "name": "python3",
      "display_name": "Python 3"
    }
  },
  "cells": [
    {
      "cell_type": "markdown",
      "metadata": {
        "id": "view-in-github",
        "colab_type": "text"
      },
      "source": [
        "<a href=\"https://colab.research.google.com/github/kaiser1227/akm-python/blob/master/colaboratory_public01.ipynb\" target=\"_parent\"><img src=\"https://colab.research.google.com/assets/colab-badge.svg\" alt=\"Open In Colab\"/></a>"
      ]
    },
    {
      "metadata": {
        "id": "iIrPrItZnNhs",
        "colab_type": "code",
        "colab": {
          "base_uri": "https://localhost:8080/",
          "height": 380
        },
        "outputId": "b3e4bdb7-750f-45ee-abe2-38c1afe35c8f"
      },
      "cell_type": "code",
      "source": [
        "\n",
        "from urllib.request import urlopen\n",
        "import pandas as pd\n",
        "from bs4 import BeautifulSoup\n",
        "from html_table_parser import parser_functions as parser\n",
        " \n",
        " \n",
        "def collect_land_sale(ym,lawd_cd):\n",
        " \n",
        "    API_KEY = \"UmeOG8fXLWmdW2DwQMpFHgFwx%2BkwkYDtw16TtQeaP4xzbqtKCv08tZUAY8UcykdaFQ6Q92pbC4jJruoenAfXjA%3D%3D\"\n",
        "    url=\"http://openapi.molit.go.kr/OpenAPI_ToolInstallPackage/service/rest/RTMSOBJSvc/getRTMSDataSvcLandTrade\"\n",
        " \n",
        "    url=url+\"?LAWD_CD=\"+lawd_cd+\"&DEAL_YMD=\"+ym+\"&serviceKey=\"+API_KEY\n",
        " \n",
        "    resultXML = urlopen(url)\n",
        "    result = resultXML.read()\n",
        "    xmlsoup = BeautifulSoup(result, 'lxml-xml')\n",
        " \n",
        "    te=xmlsoup.findAll(\"item\")\n",
        "    sil=pd.DataFrame()\n",
        " \n",
        "    for t in te:\n",
        "        price = t.find(\"거래금액\").text\n",
        "        size = t.find(\"거래면적\").text\n",
        "        year=t.find(\"년\").text\n",
        "        dong=t.find(\"법정동\").text\n",
        "        gu = t.find(\"시군구\").text\n",
        "        yd = t.find(\"용도지역\").text\n",
        "        month=t.find(\"월\").text\n",
        "        day=t.find(\"일\").text\n",
        "        jimock=t.find(\"지목\").text\n",
        "        lawd_cd=t.find(\"지역코드\").text\n",
        " \n",
        "        temp = pd.DataFrame(([[price,size,year,dong,gu,yd,month,day,jimock,lawd_cd]]),\n",
        "                            columns=[\"price\",\"size\",\"year\",\"dong\",\"gu\",\"month\",\"day\",\"size\",\"jimock\",\"lawd_cd\"])\n",
        "        sil=pd.concat([sil,temp])\n",
        " \n",
        "    sil=sil.reset_index(drop=True)\n",
        " \n",
        "    return sil\n",
        " \n",
        "if __name__==\"__main__\":\n",
        " \n",
        "    data=collect_land_sale(\"201901\",\"11110\")\n"
      ],
      "execution_count": 1,
      "outputs": [
        {
          "output_type": "error",
          "ename": "ModuleNotFoundError",
          "evalue": "ignored",
          "traceback": [
            "\u001b[0;31m---------------------------------------------------------------------------\u001b[0m",
            "\u001b[0;31mModuleNotFoundError\u001b[0m                       Traceback (most recent call last)",
            "\u001b[0;32m<ipython-input-1-79e5bf5312b6>\u001b[0m in \u001b[0;36m<module>\u001b[0;34m()\u001b[0m\n\u001b[1;32m      3\u001b[0m \u001b[0;32mimport\u001b[0m \u001b[0mpandas\u001b[0m \u001b[0;32mas\u001b[0m \u001b[0mpd\u001b[0m\u001b[0;34m\u001b[0m\u001b[0;34m\u001b[0m\u001b[0m\n\u001b[1;32m      4\u001b[0m \u001b[0;32mfrom\u001b[0m \u001b[0mbs4\u001b[0m \u001b[0;32mimport\u001b[0m \u001b[0mBeautifulSoup\u001b[0m\u001b[0;34m\u001b[0m\u001b[0;34m\u001b[0m\u001b[0m\n\u001b[0;32m----> 5\u001b[0;31m \u001b[0;32mfrom\u001b[0m \u001b[0mhtml_table_parser\u001b[0m \u001b[0;32mimport\u001b[0m \u001b[0mparser_functions\u001b[0m \u001b[0;32mas\u001b[0m \u001b[0mparser\u001b[0m\u001b[0;34m\u001b[0m\u001b[0;34m\u001b[0m\u001b[0m\n\u001b[0m\u001b[1;32m      6\u001b[0m \u001b[0;34m\u001b[0m\u001b[0m\n\u001b[1;32m      7\u001b[0m \u001b[0;34m\u001b[0m\u001b[0m\n",
            "\u001b[0;31mModuleNotFoundError\u001b[0m: No module named 'html_table_parser'",
            "",
            "\u001b[0;31m---------------------------------------------------------------------------\u001b[0;32m\nNOTE: If your import is failing due to a missing package, you can\nmanually install dependencies using either !pip or !apt.\n\nTo view examples of installing some common dependencies, click the\n\"Open Examples\" button below.\n\u001b[0;31m---------------------------------------------------------------------------\u001b[0m\n"
          ]
        }
      ]
    }
  ]
}