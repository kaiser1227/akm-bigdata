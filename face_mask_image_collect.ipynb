{
 "cells": [
  {
   "cell_type": "code",
   "execution_count": null,
   "id": "76d99586",
   "metadata": {},
   "outputs": [],
   "source": [
    "# 라이브러리 설치\n",
    "!pip install tensorflow opencv-python cvlib"
   ]
  },
  {
   "cell_type": "code",
   "execution_count": null,
   "id": "8197e9b9",
   "metadata": {},
   "outputs": [],
   "source": [
    "import os \n",
    "# 폴더 생성\n",
    "os.mkdir(\"./mask\")\n",
    "os.mkdir(\"./nomask\") "
   ]
  },
  {
   "cell_type": "code",
   "execution_count": null,
   "id": "64d5523e",
   "metadata": {},
   "outputs": [],
   "source": [
    "import shutil\n",
    "#폴더삭제\n",
    "shutil.rmtree(\"./openeyes\")\n",
    "shutil.rmtree(\"./closeeyes\") \n",
    "\n",
    "# 라이브러리 설치\n",
    "!pip install tensorflow opencv-python cvlib\n",
    "\n",
    "import os \n",
    "# 폴더 생성\n",
    "os.mkdir(\"./mask\")\n",
    "os.mkdir(\"./nomask\") \n",
    "\n",
    "# 데이터 수집\n",
    "import cv2\n",
    "import cvlib as cv\n",
    " \n",
    "# open webcam (웹캠 열기)\n",
    "webcam = cv2.VideoCapture(0)\n",
    " \n",
    "if not webcam.isOpened():\n",
    "    print(\"Could not open webcam\")\n",
    "    exit()\n",
    "    \n",
    " \n",
    "sample_num = 0    \n",
    "captured_num = 0\n",
    "    \n",
    "# loop through frames\n",
    "while webcam.isOpened():\n",
    "    \n",
    "    # read frame from webcam \n",
    "    status, frame = webcam.read()\n",
    "    sample_num = sample_num + 1\n",
    "    \n",
    "    if not status:\n",
    "        break\n",
    " \n",
    "    # 이미지 내 얼굴 검출\n",
    "    face, confidence = cv.detect_face(frame)\n",
    "    \n",
    "    print(face)\n",
    "    print(confidence)\n",
    " \n",
    "    # loop through detected faces\n",
    "    for idx, f in enumerate(face):\n",
    "        \n",
    "        (startX, startY) = f[0], f[1]\n",
    "        (endX, endY) = f[2], f[3]\n",
    " \n",
    " \n",
    "        if sample_num % 8  == 0:\n",
    "            captured_num = captured_num + 1\n",
    "            face_in_img = frame[startY:endY, startX:endX, :]\n",
    "            #cv2.imwrite('./mask/face'+str(captured_num)+'.jpg', face_in_img) # 마스크 착용 데이터 수집시 주석해제\n",
    "            cv2.imwrite('./nomask/face'+str(captured_num)+'.jpg', face_in_img) # 마스크 미착용 데이터 수집시 주석해제\n",
    "            \n",
    "    # display output\n",
    "    cv2.imshow(\"captured frames\", frame)        \n",
    "    \n",
    "    # 수집 완료 시 키보드 'q'키를 눌러서 종료\n",
    "    if cv2.waitKey(1) & 0xFF == ord('q'):\n",
    "        break\n",
    "    \n",
    "# release resources\n",
    "webcam.release()\n",
    "cv2.destroyAllWindows()   \n"
   ]
  }
 ],
 "metadata": {
  "kernelspec": {
   "display_name": "Python 3",
   "language": "python",
   "name": "python3"
  },
  "language_info": {
   "codemirror_mode": {
    "name": "ipython",
    "version": 3
   },
   "file_extension": ".py",
   "mimetype": "text/x-python",
   "name": "python",
   "nbconvert_exporter": "python",
   "pygments_lexer": "ipython3",
   "version": "3.8.8"
  }
 },
 "nbformat": 4,
 "nbformat_minor": 5
}
