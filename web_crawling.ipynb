{
  "nbformat": 4,
  "nbformat_minor": 0,
  "metadata": {
    "colab": {
      "name": "web_crawling.ipynb",
      "version": "0.3.2",
      "provenance": [],
      "collapsed_sections": [],
      "include_colab_link": true
    },
    "kernelspec": {
      "name": "python3",
      "display_name": "Python 3"
    }
  },
  "cells": [
    {
      "cell_type": "markdown",
      "metadata": {
        "id": "view-in-github",
        "colab_type": "text"
      },
      "source": [
        "<a href=\"https://colab.research.google.com/github/kaiser1227/akm-python/blob/master/web_crawling.ipynb\" target=\"_parent\"><img src=\"https://colab.research.google.com/assets/colab-badge.svg\" alt=\"Open In Colab\"/></a>"
      ]
    },
    {
      "metadata": {
        "id": "cJaVnJaq3wD6",
        "colab_type": "text"
      },
      "cell_type": "markdown",
      "source": [
        "## requests와 BeautifulSoup으로 웹 크롤링"
      ]
    },
    {
      "metadata": {
        "id": "D_oj6CLa4C-x",
        "colab_type": "text"
      },
      "cell_type": "markdown",
      "source": [
        "### requests로 html 소스 가져오기"
      ]
    },
    {
      "metadata": {
        "id": "0KvQRS21Q2KF",
        "colab_type": "code",
        "colab": {
          "base_uri": "https://localhost:8080/",
          "height": 54
        },
        "outputId": "e311f7d9-a317-462f-e550-4aad0c11b779"
      },
      "cell_type": "code",
      "source": [
        "import requests\n",
        "\n",
        "## HTTP GET Request\n",
        "req = requests.get('https://kaiser1227.github.io/')\n",
        "\n",
        "## HTML 소스 가져오기\n",
        "html = req.text\n",
        "## HTTP Header 가져오기\n",
        "header = req.headers\n",
        "## HTTP Status 가져오기 (200: 정상)\n",
        "status = req.status_code\n",
        "## HTTP가 정상적으로 되었는지 (True/False)\n",
        "is_ok = req.ok\n",
        "\n",
        "html\n"
      ],
      "execution_count": 31,
      "outputs": [
        {
          "output_type": "execute_result",
          "data": {
            "text/plain": [
              "'<!DOCTYPE html>\\n<html>\\n\\n  <head>\\n\\t<meta charset=\"utf-8\">\\n\\t<meta http-equiv=\"X-UA-Compatible\" content=\"IE=edge\">\\n\\t<meta name=\"viewport\" content=\"width=device-width, initial-scale=1\">\\n\\t<title>Kyungmyun\\'s Life</title>\\n\\t<meta name=\"description\" content=\"Kyungmyun An Work & Life\">\\n\\t\\n\\t<link rel=\"canonical\" href=\"https://kaiser1227.github.io/\">\\n\\t<link rel=\"alternate\" type=\"application/rss+xml\" title=\"Kyungmyun\\'s Life\" href=\"https://kaiser1227.github.io/feed.xml\" />\\n\\t\\n\\t<!-- <link rel=\"stylesheet\" href=\"/css/main.css\"> -->\\n    \\n    <link rel=\"stylesheet\" type=\"text/css\" href=\"/static/css/bootstrap.min.css\">\\n    <link rel=\"stylesheet\" type=\"text/css\" href=\"/static/css/index.css\">\\n\\t<script type=\"text/javascript\" src=\"/static/js/jquery-1.11.1.min.js\"></script>\\n\\t<script type=\"text/javascript\" src=\"/static/js/bootstrap.min.js\"></script>\\n    <link rel=\"stylesheet\" type=\"text/css\" href=\"/static/css/monokai_sublime.min.css\">\\n\\t<script type=\"text/javascript\" src=\"/static/js/highlight.min.js\"></script>\\n\\n    <!--\\n    <link rel=\"stylesheet\" type=\"text/css\" href=\"http://apps.bdimg.com/libs/bootstrap/3.3.0/css/bootstrap.min.css\">\\n\\t<script type=\"text/javascript\" src=\"http://apps.bdimg.com/libs/jquery/2.1.1/jquery.min.js\"></script>\\n\\t<script type=\"text/javascript\" src=\"http://apps.bdimg.com/libs/bootstrap/3.3.0/js/bootstrap.min.js\"></script>\\n    <link rel=\"stylesheet\" type=\"text/css\" href=\"http://apps.bdimg.com/libs/highlight.js/8.4/styles/monokai_sublime.min.css\">\\n\\t<script type=\"text/javascript\" src=\"http://apps.bdimg.com/libs/highlight.js/8.4/highlight.min.js\"></script>\\n    -->\\n    \\n\\t<script type=\"text/javascript\" src=\"/static/js/index.js\"></script>\\n\\t<script>hljs.initHighlightingOnLoad();</script>\\n</head>\\n\\n <body data-spy=\"scroll\" data-target=\"#myAffix\"> \\n  <!--<body> --> \\n  \\n    <header>\\n\\n<!-- navbar -->\\n  <nav class=\"navbar navbar-inverse\">\\n  <div class=\"container\">\\n    <!-- Brand and toggle get grouped for better mobile display -->\\n    <div class=\"navbar-header\">\\n      <button type=\"button\" class=\"navbar-toggle collapsed\" data-toggle=\"collapse\" data-target=\"#bs-example-navbar-collapse-1\">\\n        <span class=\"sr-only\">Toggle navigation</span>\\n        <span class=\"icon-bar\"></span>\\n        <span class=\"icon-bar\"></span>\\n        <span class=\"icon-bar\"></span>\\n      </button>\\n      <a class=\"navbar-brand\" href=\"/\">Kyungmyun\\'s Life</a>\\n      <p class=\"navbar-text\"></p>\\n    </div>\\n    <!-- Collect the nav links, forms, and other content for toggling -->\\n    <div class=\"collapse navbar-collapse\" id=\"bs-example-navbar-collapse-1\">\\n      <ul class=\"nav navbar-nav navbar-right\">\\n\\n        \\n          <li>\\n        \\n        <a href=\"/\">Home</a></li>\\n\\n        \\n          \\n            \\n              <li>\\n            \\n            <a href=\"/projects/\"><span class=\"glyphicon \"></span> Projects</a></li>\\n          \\n        \\n          \\n            \\n              <li>\\n            \\n            <a href=\"/about/\"><span class=\"glyphicon \"></span> About</a></li>\\n          \\n        \\n          \\n            \\n              <li>\\n            \\n            <a href=\"/Sitemap/\"><span class=\"glyphicon \"></span> Sitemap</a></li>\\n          \\n        \\n          \\n        \\n          \\n        \\n          \\n        \\n          \\n        \\n      </ul>\\n    </div><!-- /.navbar-collapse -->\\n  </div><!-- /.container-fluid -->\\n</nav>\\n\\n</header>\\n    \\n    <div id=\"main\" class=\"container main\">\\n      <div id=\"index\" class=\"row\">\\n  <div class=\"col-sm-9\">\\n    <div class=\"post-area \">\\n\\t  <div class=\"post-list-header\">\\n\\t  Posts\\n\\t  </div>\\n      <div class=\"post-list-body\">\\n        <div class=\"all-posts\" post-cate=\"All\">\\n          \\n            <a class=\"post-list-item\" href=\"/2019/03/08/%EA%B3%B5%EA%B3%B5%EB%8D%B0%EC%9D%B4%ED%84%B0-%EA%B0%80%EC%A0%B8%EC%98%A4%EA%B8%B0/\">\\n              <h2>\\n              google colab 사용하여 google drive에 공공데이터 수집하기\\n              </h2>\\n              <span class=\"\">Mar 8, 2019</span>\\n            </a>\\n          \\n            <a class=\"post-list-item\" href=\"/2019/02/25/docker%EB%A1%9C-%ED%8C%8C%EC%9D%B4%EC%8D%AC-%EA%B0%9C%EB%B0%9C%ED%99%98%EA%B2%BD-%EA%B5%AC%EC%B6%95/\">\\n              <h2>\\n              윈도우에서 docker 설치하여 스파크 기반의 jupyter 환경 구축\\n              </h2>\\n              <span class=\"\">Feb 25, 2019</span>\\n            </a>\\n          \\n            <a class=\"post-list-item\" href=\"/2019/02/22/TIL1/\">\\n              <h2>\\n              블로그 시작\\n              </h2>\\n              <span class=\"\">Feb 22, 2019</span>\\n            </a>\\n          \\n        </div>\\n        <!-- <div class=\"posts-in-categories\"> -->\\n        \\n          <div post-cate=\"Diary\">\\n            \\n              \\n                \\n              \\n            \\n              \\n                \\n                  <a href=\"/2019/02/22/TIL1/\" class=\"post-list-item\">\\n                    <h2>\\n                    블로그 시작\\n                    </h2>\\n                    <span class=\"\">Feb 22, 2019</span>\\n                  </a>\\n                \\n              \\n            \\n          </div>\\n        \\n          <div post-cate=\"Docker\">\\n            \\n              \\n                \\n              \\n            \\n              \\n                \\n                  <a href=\"/2019/02/25/docker%EB%A1%9C-%ED%8C%8C%EC%9D%B4%EC%8D%AC-%EA%B0%9C%EB%B0%9C%ED%99%98%EA%B2%BD-%EA%B5%AC%EC%B6%95/\" class=\"post-list-item\">\\n                    <h2>\\n                    윈도우에서 docker 설치하여 스파크 기반의 jupyter 환경 구축\\n                    </h2>\\n                    <span class=\"\">Feb 25, 2019</span>\\n                  </a>\\n                \\n              \\n            \\n          </div>\\n        \\n          <div post-cate=\"Python\">\\n            \\n              \\n                \\n              \\n            \\n              \\n                \\n                  <a href=\"/2019/03/08/%EA%B3%B5%EA%B3%B5%EB%8D%B0%EC%9D%B4%ED%84%B0-%EA%B0%80%EC%A0%B8%EC%98%A4%EA%B8%B0/\" class=\"post-list-item\">\\n                    <h2>\\n                    google colab 사용하여 google drive에 공공데이터 수집하기\\n                    </h2>\\n                    <span class=\"\">Mar 8, 2019</span>\\n                  </a>\\n                \\n              \\n            \\n          </div>\\n        \\n        <!-- </div> -->\\n      </div>\\n    </div>\\n  </div>\\n  <div class=\"col-sm-3\">\\n    <div class=\"shadow-corner-curl hidden-xs\">\\n      <div class=\"categories-list-header\">\\n        Categories\\n      </div>\\n      \\n      <a href=\"javascript:;\" class=\"categories-list-item\" cate=\"All\">\\n        All<span class=\"my-badge\"> 3</span>\\n      </a>\\n      \\n        <a href=\"javascript:;\" class=\"categories-list-item\" cate=\"Diary\">\\n          Diary <span class=\"my-badge\">1</span>\\n        </a>\\n      \\n        <a href=\"javascript:;\" class=\"categories-list-item\" cate=\"Docker\">\\n          Docker <span class=\"my-badge\">1</span>\\n        </a>\\n      \\n        <a href=\"javascript:;\" class=\"categories-list-item\" cate=\"Python\">\\n          Python <span class=\"my-badge\">1</span>\\n        </a>\\n      \\n    </div>\\n  </div>\\n</div>\\n\\n    </div>\\n    \\n    <div id=\"top\" data-toggle=\"tooltip\" data-placement=\"left\" title=\"back to top\">\\n      <a href=\"#\">\\n        <div class=\"arrow\"></div>\\n        <div class=\"stick\"></div>\\n      </a>\\n    </div>\\n\\n    <footer class=\"\">\\n  <div class=\"container\">\\n    <div class=\"row\">\\n      <div class=\"col-md-12\">\\n        <a href=\"mailto:kaiser1227@gmail.com\"><span class=\"glyphicon glyphicon-envelope\"></span> kaiser1227@gmail.com</a>\\n        <span class=\"point\"> · </span>\\n        \\n          <a href=\"https://github.com/kaiser1227\">\\n            <span class=\"icon\">\\n              <svg viewBox=\"0 0 16 16\">\\n                <path fill=\"#aaa\" d=\"M7.999,0.431c-4.285,0-7.76,3.474-7.76,7.761 c0,3.428,2.223,6.337,5.307,7.363c0.388,0.071,0.53-0.168,0.53-0.374c0-0.184-0.007-0.672-0.01-1.32 c-2.159,0.469-2.614-1.04-2.614-1.04c-0.353-0.896-0.862-1.135-0.862-1.135c-0.705-0.481,0.053-0.472,0.053-0.472 c0.779,0.055,1.189,0.8,1.189,0.8c0.692,1.186,1.816,0.843,2.258,0.645c0.071-0.502,0.271-0.843,0.493-1.037 C4.86,11.425,3.049,10.76,3.049,7.786c0-0.847,0.302-1.54,0.799-2.082C3.768,5.507,3.501,4.718,3.924,3.65 c0,0,0.652-0.209,2.134,0.796C6.677,4.273,7.34,4.187,8,4.184c0.659,0.003,1.323,0.089,1.943,0.261 c1.482-1.004,2.132-0.796,2.132-0.796c0.423,1.068,0.157,1.857,0.077,2.054c0.497,0.542,0.798,1.235,0.798,2.082 c0,2.981-1.814,3.637-3.543,3.829c0.279,0.24,0.527,0.713,0.527,1.437c0,1.037-0.01,1.874-0.01,2.129 c0,0.208,0.14,0.449,0.534,0.373c3.081-1.028,5.302-3.935,5.302-7.362C15.76,3.906,12.285,0.431,7.999,0.431z\"/>\\n              </svg>\\n            </span>\\n            Github\\n            <!-- <span>kaiser1227</span> -->\\n          </a>\\n          \\n          <span class=\"point\"> · </span>\\n          <span><a href=\"https://github.com/kaiser1227/kaiser1227.github.io/blob/master/index.md\">View source</a></span>\\n          <span class=\"point\"> · </span>\\n          <span><a class=\"newpost\" href=\"javascript:;\">New post</a></span>\\n\\t\\t  <span class=\"point\"> · </span>\\n          <span><a href=\"/feed.xml\">RSS</a></span>\\n          <span class=\"point\"> · </span>\\n          <span>&copy; 2019 Kyungmyun An</span>\\n      </div>\\n    </div>\\n  </div>\\n</footer>\\n\\n\\n    <script type=\"text/javascript\">\\n    function OnClickNewPost()\\n    {\\n        var title = prompt(\"Please enter title of your post\");\\n        if (title!=null){\\n            title = title.replace(\" \", \"-\");\\n            var currentdate = new Date();\\n            var urlNewPage = \"https://github.com/kaiser1227/kaiser1227.github.io/new/master?filename=_posts/\" \\n                + currentdate.getFullYear() + \"-\" + (currentdate.getMonth()+1) + \"-\" + currentdate.getDate() + \"-\" + title + \".md\";\\n                \\n            var defaultText =  [\\n                \\'---\\',\\n                \\'layout: post\\',\\n                \\'comments: true\\',\\n                \\'categories: Diary\\',\\n                \\'---\\',\\n                \\'## Title\\',\\n                \\'text\\'\\n                ].join(\\'\\\\n\\');\\n            urlNewPage += \"&value=\" + encodeURIComponent(defaultText);\\n            window.open(urlNewPage);\\n        }\\n    }\\n    \\n    $(function() {\\n      // CreateNewPostLinks\\n      $(\\'.newpost\\').each(function(){\\n          $(this).click(OnClickNewPost);\\n      });\\n    });\\n</script>\\n\\n   \\n    <!-- Global site tag (gtag.js) - Google Analytics -->\\n<script async src=\"https://www.googletagmanager.com/gtag/js?id=UA-136354398-1\"></script>\\n<script>\\n  window.dataLayer = window.dataLayer || [];\\n  function gtag(){dataLayer.push(arguments);}\\n  gtag(\\'js\\', new Date());\\n\\n  gtag(\\'config\\', \\'UA-136354398-1\\');\\n</script>\\n\\n  </body>\\n</html>\\n'"
            ]
          },
          "metadata": {
            "tags": []
          },
          "execution_count": 31
        }
      ]
    },
    {
      "metadata": {
        "id": "Ekx5Sa-j4Il1",
        "colab_type": "text"
      },
      "cell_type": "markdown",
      "source": [
        "### beautifulSoup로 html 소스 가져오기"
      ]
    },
    {
      "metadata": {
        "id": "bltdBLf1w6V4",
        "colab_type": "code",
        "colab": {}
      },
      "cell_type": "code",
      "source": [
        "import requests\n",
        "from bs4 import BeautifulSoup\n",
        "\n",
        "## HTTP GET Request\n",
        "req = requests.get('https://kaiser1227.github.io/')\n",
        "## HTML 소스 가져오기\n",
        "html = req.text\n",
        "## BeautifulSoup으로 html소스를 python객체로 변환하기\n",
        "## 첫 인자는 html소스코드, 두 번째 인자는 어떤 parser를 이용할지 명시.\n",
        "## 이 글에서는 Python 내장 html.parser를 이용했다.\n",
        "soup = BeautifulSoup(html, 'html.parser')\n",
        "\n",
        "soup"
      ],
      "execution_count": 0,
      "outputs": []
    },
    {
      "metadata": {
        "id": "0irLCjSd4Sw5",
        "colab_type": "text"
      },
      "cell_type": "markdown",
      "source": [
        "###html 특정 태그 값 조회하기"
      ]
    },
    {
      "metadata": {
        "id": "Scm0fhQtxMC8",
        "colab_type": "code",
        "colab": {}
      },
      "cell_type": "code",
      "source": [
        "## parser.py\n",
        "import requests\n",
        "from bs4 import BeautifulSoup\n",
        "\n",
        "req = requests.get('https://kaiser1227.github.io/')\n",
        "html = req.text\n",
        "soup = BeautifulSoup(html, 'html.parser')\n",
        "## CSS Selector를 통해 html요소들을 찾아낸다.\n",
        "my_titles = soup.select(\n",
        "    'h2'\n",
        "    )\n",
        "\n",
        "print(my_titles)\n",
        "\n",
        "## my_titles는 list 객체\n",
        "for title in my_titles:\n",
        "    ## Tag안의 텍스트\n",
        "    print(title.text)\n",
        "    ## Tag의 속성을 가져오기(ex: href속성)\n",
        "    print(title.get('h2'))"
      ],
      "execution_count": 0,
      "outputs": []
    }
  ]
}